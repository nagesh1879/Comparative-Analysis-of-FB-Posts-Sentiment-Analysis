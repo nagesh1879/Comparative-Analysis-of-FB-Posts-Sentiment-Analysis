{
 "cells": [
  {
   "cell_type": "code",
   "execution_count": 39,
   "id": "3d2d2128",
   "metadata": {},
   "outputs": [],
   "source": [
    "from sklearn.feature_extraction.text import CountVectorizer"
   ]
  },
  {
   "cell_type": "code",
   "execution_count": 40,
   "id": "35ec7eb0",
   "metadata": {},
   "outputs": [],
   "source": [
    "from keras.preprocessing.text import Tokenizer"
   ]
  },
  {
   "cell_type": "code",
   "execution_count": 41,
   "id": "6b741125",
   "metadata": {},
   "outputs": [],
   "source": [
    "from keras.utils.data_utils import pad_sequences"
   ]
  },
  {
   "cell_type": "code",
   "execution_count": 42,
   "id": "5144acff",
   "metadata": {},
   "outputs": [],
   "source": [
    "from keras.models import Sequential"
   ]
  },
  {
   "cell_type": "code",
   "execution_count": 43,
   "id": "5213b33d",
   "metadata": {},
   "outputs": [],
   "source": [
    "from keras.layers import Dense, Embedding, LSTM, SpatialDropout1D"
   ]
  },
  {
   "cell_type": "code",
   "execution_count": 44,
   "id": "cc5c8b56",
   "metadata": {},
   "outputs": [],
   "source": [
    "from sklearn.model_selection import train_test_split"
   ]
  },
  {
   "cell_type": "code",
   "execution_count": 45,
   "id": "cb4a824f",
   "metadata": {},
   "outputs": [],
   "source": [
    "from keras.utils.np_utils import to_categorical"
   ]
  },
  {
   "cell_type": "code",
   "execution_count": 46,
   "id": "361169b5",
   "metadata": {},
   "outputs": [],
   "source": [
    "import pandas as pd"
   ]
  },
  {
   "cell_type": "code",
   "execution_count": 47,
   "id": "4a6043ed",
   "metadata": {},
   "outputs": [],
   "source": [
    "import numpy as np"
   ]
  },
  {
   "cell_type": "code",
   "execution_count": 48,
   "id": "ee42814d",
   "metadata": {},
   "outputs": [],
   "source": [
    "import matplotlib.pyplot as plt"
   ]
  },
  {
   "cell_type": "code",
   "execution_count": 49,
   "id": "3b99f15e",
   "metadata": {},
   "outputs": [],
   "source": [
    "fb = pd.read_csv('D:\\\\Dissertation\\\\fb_sentiment_1.csv')"
   ]
  },
  {
   "cell_type": "code",
   "execution_count": 50,
   "id": "f93fb63e",
   "metadata": {},
   "outputs": [
    {
     "data": {
      "text/html": [
       "<div>\n",
       "<style scoped>\n",
       "    .dataframe tbody tr th:only-of-type {\n",
       "        vertical-align: middle;\n",
       "    }\n",
       "\n",
       "    .dataframe tbody tr th {\n",
       "        vertical-align: top;\n",
       "    }\n",
       "\n",
       "    .dataframe thead th {\n",
       "        text-align: right;\n",
       "    }\n",
       "</style>\n",
       "<table border=\"1\" class=\"dataframe\">\n",
       "  <thead>\n",
       "    <tr style=\"text-align: right;\">\n",
       "      <th></th>\n",
       "      <th>Unnamed: 0</th>\n",
       "      <th>FBPost</th>\n",
       "      <th>Label</th>\n",
       "    </tr>\n",
       "  </thead>\n",
       "  <tbody>\n",
       "    <tr>\n",
       "      <th>0</th>\n",
       "      <td>0</td>\n",
       "      <td>Drug Runners and  a U.S. Senator have somethin...</td>\n",
       "      <td>O</td>\n",
       "    </tr>\n",
       "    <tr>\n",
       "      <th>1</th>\n",
       "      <td>1</td>\n",
       "      <td>Heres a single, to add, to Kindle. Just read t...</td>\n",
       "      <td>O</td>\n",
       "    </tr>\n",
       "    <tr>\n",
       "      <th>2</th>\n",
       "      <td>2</td>\n",
       "      <td>If you tire of Non-Fiction.. Check out http://...</td>\n",
       "      <td>O</td>\n",
       "    </tr>\n",
       "    <tr>\n",
       "      <th>3</th>\n",
       "      <td>3</td>\n",
       "      <td>Ghost of Round Island is supposedly nonfiction.</td>\n",
       "      <td>O</td>\n",
       "    </tr>\n",
       "    <tr>\n",
       "      <th>4</th>\n",
       "      <td>4</td>\n",
       "      <td>Why is Barnes and Nobles version of the Kindle...</td>\n",
       "      <td>N</td>\n",
       "    </tr>\n",
       "  </tbody>\n",
       "</table>\n",
       "</div>"
      ],
      "text/plain": [
       "   Unnamed: 0                                             FBPost Label\n",
       "0           0  Drug Runners and  a U.S. Senator have somethin...     O\n",
       "1           1  Heres a single, to add, to Kindle. Just read t...     O\n",
       "2           2  If you tire of Non-Fiction.. Check out http://...     O\n",
       "3           3    Ghost of Round Island is supposedly nonfiction.     O\n",
       "4           4  Why is Barnes and Nobles version of the Kindle...     N"
      ]
     },
     "execution_count": 50,
     "metadata": {},
     "output_type": "execute_result"
    }
   ],
   "source": [
    "fb.head()"
   ]
  },
  {
   "cell_type": "code",
   "execution_count": 51,
   "id": "5fae111c",
   "metadata": {},
   "outputs": [],
   "source": [
    "# Exploring Data lower-casing the coloumn names\n",
    "fb.columns = map(str.lower, fb.columns)"
   ]
  },
  {
   "cell_type": "code",
   "execution_count": 52,
   "id": "bed4a383",
   "metadata": {},
   "outputs": [
    {
     "data": {
      "text/plain": [
       "(1018, 3)"
      ]
     },
     "execution_count": 52,
     "metadata": {},
     "output_type": "execute_result"
    }
   ],
   "source": [
    "# checkin the shape of the DF\n",
    "fb.shape"
   ]
  },
  {
   "cell_type": "code",
   "execution_count": 53,
   "id": "a4350d53",
   "metadata": {},
   "outputs": [],
   "source": [
    "import re\n",
    "\n",
    "def preprocess_text(text):\n",
    "    if isinstance(text, str):\n",
    "        text = text.lower()\n",
    "        text = re.sub('[^a-zA-z0-9\\s]','',text)\n",
    "    return text\n",
    "\n",
    "fb['fbpost'] = fb['fbpost'].apply(preprocess_text)"
   ]
  },
  {
   "cell_type": "code",
   "execution_count": 54,
   "id": "2471bd7f",
   "metadata": {},
   "outputs": [],
   "source": [
    "fb = fb[fb.label != \"O\"]"
   ]
  },
  {
   "cell_type": "code",
   "execution_count": 55,
   "id": "672e821d",
   "metadata": {},
   "outputs": [],
   "source": [
    "# drop null values\n",
    "fb.dropna(subset=['fbpost'], inplace=True)\n",
    "\n",
    "# lowercase the text and remove symbols using regex\n",
    "fb['fbpost'] = fb['fbpost'].apply(lambda x: x.lower())\n",
    "fb['fbpost'] = fb['fbpost'].apply((lambda x: re.sub('[^a-zA-z0-9\\s]','',x)))\n",
    "\n",
    "# tokenize the text data\n",
    "max_fatures = 2000\n",
    "tokenizer = Tokenizer(num_words=max_fatures, split=' ')\n",
    "tokenizer.fit_on_texts(fb['fbpost'].values)\n",
    "X = tokenizer.texts_to_sequences(fb['fbpost'].values)\n"
   ]
  },
  {
   "cell_type": "code",
   "execution_count": 56,
   "id": "1d6888fc",
   "metadata": {},
   "outputs": [],
   "source": [
    "X = pad_sequences(X)"
   ]
  },
  {
   "cell_type": "code",
   "execution_count": 57,
   "id": "336f0175",
   "metadata": {},
   "outputs": [
    {
     "data": {
      "text/plain": [
       "P    641\n",
       "N     95\n",
       "Name: label, dtype: int64"
      ]
     },
     "execution_count": 57,
     "metadata": {},
     "output_type": "execute_result"
    }
   ],
   "source": [
    "#Preparing the labels\n",
    "fb.label.value_counts()"
   ]
  },
  {
   "cell_type": "code",
   "execution_count": 58,
   "id": "bcb2d4e9",
   "metadata": {},
   "outputs": [
    {
     "name": "stdout",
     "output_type": "stream",
     "text": [
      "(493, 203) (493, 2)\n",
      "(243, 203) (243, 2)\n"
     ]
    }
   ],
   "source": [
    "Y = pd.get_dummies(fb['label']).values\n",
    "X_train, X_test, Y_train, Y_test = train_test_split(X,Y, test_size = 0.33, random_state = 42)\n",
    "print(X_train.shape,Y_train.shape)\n",
    "print(X_test.shape,Y_test.shape)"
   ]
  },
  {
   "cell_type": "code",
   "execution_count": 59,
   "id": "32702331",
   "metadata": {},
   "outputs": [],
   "source": [
    "#LSTM Model\n",
    "embed_dim = 256\n",
    "lstm_out = 256"
   ]
  },
  {
   "cell_type": "code",
   "execution_count": 60,
   "id": "162e294b",
   "metadata": {},
   "outputs": [],
   "source": [
    "from keras.models import Sequential\n",
    "from keras.layers import Embedding, LSTM, Dense\n",
    "from keras.layers import SimpleRNN, Dense"
   ]
  },
  {
   "cell_type": "code",
   "execution_count": 61,
   "id": "73fad980",
   "metadata": {},
   "outputs": [],
   "source": [
    "model = Sequential()"
   ]
  },
  {
   "cell_type": "code",
   "execution_count": 64,
   "id": "e113deea",
   "metadata": {
    "scrolled": true
   },
   "outputs": [
    {
     "name": "stdout",
     "output_type": "stream",
     "text": [
      "Model: \"sequential\"\n",
      "_________________________________________________________________\n",
      " Layer (type)                Output Shape              Param #   \n",
      "=================================================================\n",
      " embedding (Embedding)       (None, 203, 256)          512000    \n",
      "                                                                 \n",
      " spatial_dropout1d (SpatialD  (None, 203, 256)         0         \n",
      " ropout1D)                                                       \n",
      "                                                                 \n",
      " lstm (LSTM)                 (None, 256)               525312    \n",
      "                                                                 \n",
      " dense (Dense)               (None, 2)                 514       \n",
      "                                                                 \n",
      " embedding_1 (Embedding)     (None, 2, 256)            512000    \n",
      "                                                                 \n",
      " spatial_dropout1d_1 (Spatia  (None, 2, 256)           0         \n",
      " lDropout1D)                                                     \n",
      "                                                                 \n",
      " lstm_1 (LSTM)               (None, 256)               525312    \n",
      "                                                                 \n",
      " dense_1 (Dense)             (None, 2)                 514       \n",
      "                                                                 \n",
      "=================================================================\n",
      "Total params: 2,075,652\n",
      "Trainable params: 2,075,652\n",
      "Non-trainable params: 0\n",
      "_________________________________________________________________\n",
      "None\n"
     ]
    }
   ],
   "source": [
    "model.add(Embedding(max_fatures, embed_dim,input_length = X.shape[1]))\n",
    "model.add(SpatialDropout1D(0.4))\n",
    "model.add(LSTM(lstm_out, dropout=0.2, recurrent_dropout=0.2))\n",
    "model.add(Dense(2,activation='softmax'))\n",
    "model.compile(loss = 'categorical_crossentropy', optimizer='adam',metrics = ['accuracy'])\n",
    "print(model.summary())"
   ]
  },
  {
   "cell_type": "code",
   "execution_count": 65,
   "id": "51d2dd7d",
   "metadata": {},
   "outputs": [
    {
     "name": "stdout",
     "output_type": "stream",
     "text": [
      "Epoch 1/40\n",
      "WARNING:tensorflow:Gradients do not exist for variables ['embedding/embeddings:0', 'lstm/lstm_cell/kernel:0', 'lstm/lstm_cell/recurrent_kernel:0', 'lstm/lstm_cell/bias:0', 'dense/kernel:0', 'dense/bias:0'] when minimizing the loss. If you're using `model.compile()`, did you forget to provide a `loss` argument?\n",
      "WARNING:tensorflow:Gradients do not exist for variables ['embedding/embeddings:0', 'lstm/lstm_cell/kernel:0', 'lstm/lstm_cell/recurrent_kernel:0', 'lstm/lstm_cell/bias:0', 'dense/kernel:0', 'dense/bias:0'] when minimizing the loss. If you're using `model.compile()`, did you forget to provide a `loss` argument?\n",
      "WARNING:tensorflow:Gradients do not exist for variables ['embedding/embeddings:0', 'lstm/lstm_cell/kernel:0', 'lstm/lstm_cell/recurrent_kernel:0', 'lstm/lstm_cell/bias:0', 'dense/kernel:0', 'dense/bias:0'] when minimizing the loss. If you're using `model.compile()`, did you forget to provide a `loss` argument?\n",
      "WARNING:tensorflow:Gradients do not exist for variables ['embedding/embeddings:0', 'lstm/lstm_cell/kernel:0', 'lstm/lstm_cell/recurrent_kernel:0', 'lstm/lstm_cell/bias:0', 'dense/kernel:0', 'dense/bias:0'] when minimizing the loss. If you're using `model.compile()`, did you forget to provide a `loss` argument?\n",
      "16/16 - 12s - loss: 0.5127 - accuracy: 0.8256 - 12s/epoch - 780ms/step\n",
      "Epoch 2/40\n",
      "16/16 - 8s - loss: 0.4254 - accuracy: 0.8621 - 8s/epoch - 512ms/step\n",
      "Epoch 3/40\n",
      "16/16 - 8s - loss: 0.4053 - accuracy: 0.8621 - 8s/epoch - 502ms/step\n",
      "Epoch 4/40\n",
      "16/16 - 9s - loss: 0.4067 - accuracy: 0.8621 - 9s/epoch - 582ms/step\n",
      "Epoch 5/40\n",
      "16/16 - 7s - loss: 0.4014 - accuracy: 0.8621 - 7s/epoch - 463ms/step\n",
      "Epoch 6/40\n",
      "16/16 - 8s - loss: 0.4033 - accuracy: 0.8621 - 8s/epoch - 491ms/step\n",
      "Epoch 7/40\n",
      "16/16 - 7s - loss: 0.4024 - accuracy: 0.8621 - 7s/epoch - 440ms/step\n",
      "Epoch 8/40\n",
      "16/16 - 7s - loss: 0.4054 - accuracy: 0.8621 - 7s/epoch - 434ms/step\n",
      "Epoch 9/40\n",
      "16/16 - 7s - loss: 0.4004 - accuracy: 0.8621 - 7s/epoch - 427ms/step\n",
      "Epoch 10/40\n",
      "16/16 - 8s - loss: 0.4057 - accuracy: 0.8621 - 8s/epoch - 477ms/step\n",
      "Epoch 11/40\n",
      "16/16 - 7s - loss: 0.4068 - accuracy: 0.8621 - 7s/epoch - 410ms/step\n",
      "Epoch 12/40\n",
      "16/16 - 7s - loss: 0.4035 - accuracy: 0.8621 - 7s/epoch - 416ms/step\n",
      "Epoch 13/40\n",
      "16/16 - 7s - loss: 0.4023 - accuracy: 0.8621 - 7s/epoch - 426ms/step\n",
      "Epoch 14/40\n",
      "16/16 - 7s - loss: 0.4054 - accuracy: 0.8621 - 7s/epoch - 413ms/step\n",
      "Epoch 15/40\n",
      "16/16 - 8s - loss: 0.4026 - accuracy: 0.8621 - 8s/epoch - 473ms/step\n",
      "Epoch 16/40\n",
      "16/16 - 8s - loss: 0.4084 - accuracy: 0.8621 - 8s/epoch - 515ms/step\n",
      "Epoch 17/40\n",
      "16/16 - 8s - loss: 0.4055 - accuracy: 0.8621 - 8s/epoch - 480ms/step\n",
      "Epoch 18/40\n",
      "16/16 - 8s - loss: 0.4063 - accuracy: 0.8621 - 8s/epoch - 495ms/step\n",
      "Epoch 19/40\n",
      "16/16 - 8s - loss: 0.4096 - accuracy: 0.8621 - 8s/epoch - 499ms/step\n",
      "Epoch 20/40\n",
      "16/16 - 8s - loss: 0.4043 - accuracy: 0.8621 - 8s/epoch - 508ms/step\n",
      "Epoch 21/40\n",
      "16/16 - 8s - loss: 0.4084 - accuracy: 0.8621 - 8s/epoch - 486ms/step\n",
      "Epoch 22/40\n",
      "16/16 - 8s - loss: 0.4052 - accuracy: 0.8621 - 8s/epoch - 484ms/step\n",
      "Epoch 23/40\n",
      "16/16 - 8s - loss: 0.4008 - accuracy: 0.8621 - 8s/epoch - 485ms/step\n",
      "Epoch 24/40\n",
      "16/16 - 8s - loss: 0.3992 - accuracy: 0.8621 - 8s/epoch - 489ms/step\n",
      "Epoch 25/40\n",
      "16/16 - 8s - loss: 0.4011 - accuracy: 0.8621 - 8s/epoch - 482ms/step\n",
      "Epoch 26/40\n",
      "16/16 - 8s - loss: 0.4014 - accuracy: 0.8621 - 8s/epoch - 486ms/step\n",
      "Epoch 27/40\n",
      "16/16 - 8s - loss: 0.4060 - accuracy: 0.8621 - 8s/epoch - 476ms/step\n",
      "Epoch 28/40\n",
      "16/16 - 8s - loss: 0.4047 - accuracy: 0.8621 - 8s/epoch - 485ms/step\n",
      "Epoch 29/40\n",
      "16/16 - 8s - loss: 0.4022 - accuracy: 0.8621 - 8s/epoch - 485ms/step\n",
      "Epoch 30/40\n",
      "16/16 - 8s - loss: 0.4046 - accuracy: 0.8621 - 8s/epoch - 487ms/step\n",
      "Epoch 31/40\n",
      "16/16 - 6s - loss: 0.4038 - accuracy: 0.8621 - 6s/epoch - 405ms/step\n",
      "Epoch 32/40\n",
      "16/16 - 6s - loss: 0.4060 - accuracy: 0.8621 - 6s/epoch - 394ms/step\n",
      "Epoch 33/40\n",
      "16/16 - 6s - loss: 0.4009 - accuracy: 0.8621 - 6s/epoch - 390ms/step\n",
      "Epoch 34/40\n",
      "16/16 - 6s - loss: 0.4066 - accuracy: 0.8621 - 6s/epoch - 399ms/step\n",
      "Epoch 35/40\n",
      "16/16 - 6s - loss: 0.4072 - accuracy: 0.8621 - 6s/epoch - 395ms/step\n",
      "Epoch 36/40\n",
      "16/16 - 7s - loss: 0.4033 - accuracy: 0.8621 - 7s/epoch - 441ms/step\n",
      "Epoch 37/40\n",
      "16/16 - 7s - loss: 0.4007 - accuracy: 0.8621 - 7s/epoch - 466ms/step\n",
      "Epoch 38/40\n",
      "16/16 - 7s - loss: 0.4049 - accuracy: 0.8621 - 7s/epoch - 424ms/step\n",
      "Epoch 39/40\n",
      "16/16 - 8s - loss: 0.4037 - accuracy: 0.8621 - 8s/epoch - 500ms/step\n",
      "Epoch 40/40\n",
      "16/16 - 8s - loss: 0.4043 - accuracy: 0.8621 - 8s/epoch - 504ms/step\n"
     ]
    }
   ],
   "source": [
    "# training the model\n",
    "batch_size = 32\n",
    "hist = model.fit(X_train, Y_train, epochs = 40, batch_size=batch_size, verbose = 2)"
   ]
  },
  {
   "cell_type": "code",
   "execution_count": 66,
   "id": "4e1f585c",
   "metadata": {},
   "outputs": [],
   "source": [
    "#Plotting a histogram over the 20 epocs and plotting the accuracy and loss\n",
    "history = pd.DataFrame(hist.history)"
   ]
  },
  {
   "cell_type": "code",
   "execution_count": 67,
   "id": "f72ca279",
   "metadata": {},
   "outputs": [
    {
     "data": {
      "text/plain": [
       "<Figure size 720x720 with 0 Axes>"
      ]
     },
     "metadata": {},
     "output_type": "display_data"
    }
   ],
   "source": [
    "plt.figure(figsize=(10,10));"
   ]
  },
  {
   "cell_type": "code",
   "execution_count": 69,
   "id": "30f058a2",
   "metadata": {
    "scrolled": true
   },
   "outputs": [
    {
     "data": {
      "image/png": "[encoded data removed]",
      "text/plain": [
       "<Figure size 504x504 with 1 Axes>"
      ]
     },
     "metadata": {
      "needs_background": "light"
     },
     "output_type": "display_data"
    }
   ],
   "source": [
    "history = pd.DataFrame(hist.history)\n",
    "plt.figure(figsize=(7,7));\n",
    "plt.plot(history[\"loss\"]);\n",
    "plt.plot(history[\"accuracy\"]);\n",
    "plt.title(\"Loss and accuracy of model\");\n",
    "plt.show();"
   ]
  },
  {
   "cell_type": "code",
   "execution_count": 70,
   "id": "280021f6",
   "metadata": {},
   "outputs": [
    {
     "name": "stdout",
     "output_type": "stream",
     "text": [
      "8/8 [==============================] - 3s 301ms/step - loss: 0.3500 - accuracy: 0.8889\n",
      "score: 0.35\n",
      "accuracy: 0.89\n"
     ]
    }
   ],
   "source": [
    "#Testing the model, and retrieveing score and accuracy:\n",
    "score,acc = model.evaluate(X_test,Y_test)\n",
    "print(\"score: %.2f\" % (score))\n",
    "print(\"accuracy: %.2f\" % (acc))"
   ]
  },
  {
   "cell_type": "code",
   "execution_count": 71,
   "id": "fd50f99e",
   "metadata": {},
   "outputs": [],
   "source": [
    "#now we validate for the models accuracy in predicting either a positive, or a negative score:\n",
    "validation_size = 1500\n",
    "\n",
    "X_validate = X_test[-validation_size:]\n",
    "Y_validate = Y_test[-validation_size:]\n",
    "x_test = X_test[:-validation_size]\n",
    "y_test = Y_test[:-validation_size]"
   ]
  },
  {
   "cell_type": "code",
   "execution_count": 72,
   "id": "ed8dc6e0",
   "metadata": {},
   "outputs": [
    {
     "name": "stdout",
     "output_type": "stream",
     "text": [
      "1/1 - 1s - 704ms/epoch - 704ms/step\n",
      "1/1 - 0s - 166ms/epoch - 166ms/step\n",
      "1/1 - 0s - 260ms/epoch - 260ms/step\n",
      "1/1 - 0s - 136ms/epoch - 136ms/step\n",
      "1/1 - 0s - 139ms/epoch - 139ms/step\n",
      "1/1 - 0s - 200ms/epoch - 200ms/step\n",
      "1/1 - 0s - 185ms/epoch - 185ms/step\n",
      "1/1 - 0s - 143ms/epoch - 143ms/step\n",
      "1/1 - 0s - 148ms/epoch - 148ms/step\n",
      "1/1 - 0s - 136ms/epoch - 136ms/step\n",
      "1/1 - 0s - 134ms/epoch - 134ms/step\n",
      "1/1 - 0s - 146ms/epoch - 146ms/step\n",
      "1/1 - 0s - 133ms/epoch - 133ms/step\n",
      "1/1 - 0s - 157ms/epoch - 157ms/step\n",
      "1/1 - 0s - 140ms/epoch - 140ms/step\n",
      "1/1 - 0s - 140ms/epoch - 140ms/step\n",
      "1/1 - 0s - 150ms/epoch - 150ms/step\n",
      "1/1 - 0s - 145ms/epoch - 145ms/step\n",
      "1/1 - 0s - 201ms/epoch - 201ms/step\n",
      "1/1 - 0s - 223ms/epoch - 223ms/step\n",
      "1/1 - 0s - 164ms/epoch - 164ms/step\n",
      "1/1 - 0s - 220ms/epoch - 220ms/step\n",
      "1/1 - 0s - 141ms/epoch - 141ms/step\n",
      "1/1 - 0s - 150ms/epoch - 150ms/step\n",
      "1/1 - 0s - 139ms/epoch - 139ms/step\n",
      "1/1 - 0s - 145ms/epoch - 145ms/step\n",
      "1/1 - 0s - 240ms/epoch - 240ms/step\n",
      "1/1 - 0s - 142ms/epoch - 142ms/step\n",
      "1/1 - 0s - 139ms/epoch - 139ms/step\n",
      "1/1 - 0s - 141ms/epoch - 141ms/step\n",
      "1/1 - 0s - 148ms/epoch - 148ms/step\n",
      "1/1 - 0s - 167ms/epoch - 167ms/step\n",
      "1/1 - 0s - 146ms/epoch - 146ms/step\n",
      "1/1 - 0s - 142ms/epoch - 142ms/step\n",
      "1/1 - 0s - 137ms/epoch - 137ms/step\n",
      "1/1 - 0s - 149ms/epoch - 149ms/step\n",
      "1/1 - 0s - 147ms/epoch - 147ms/step\n",
      "1/1 - 0s - 151ms/epoch - 151ms/step\n",
      "1/1 - 0s - 134ms/epoch - 134ms/step\n",
      "1/1 - 0s - 134ms/epoch - 134ms/step\n",
      "1/1 - 0s - 144ms/epoch - 144ms/step\n",
      "1/1 - 0s - 138ms/epoch - 138ms/step\n",
      "1/1 - 0s - 157ms/epoch - 157ms/step\n",
      "1/1 - 0s - 151ms/epoch - 151ms/step\n",
      "1/1 - 0s - 151ms/epoch - 151ms/step\n",
      "1/1 - 0s - 184ms/epoch - 184ms/step\n",
      "1/1 - 0s - 229ms/epoch - 229ms/step\n",
      "1/1 - 0s - 281ms/epoch - 281ms/step\n",
      "1/1 - 0s - 254ms/epoch - 254ms/step\n",
      "1/1 - 0s - 206ms/epoch - 206ms/step\n",
      "1/1 - 0s - 278ms/epoch - 278ms/step\n",
      "1/1 - 0s - 251ms/epoch - 251ms/step\n",
      "1/1 - 0s - 243ms/epoch - 243ms/step\n",
      "1/1 - 0s - 166ms/epoch - 166ms/step\n",
      "1/1 - 0s - 173ms/epoch - 173ms/step\n",
      "1/1 - 0s - 159ms/epoch - 159ms/step\n",
      "1/1 - 0s - 170ms/epoch - 170ms/step\n",
      "1/1 - 0s - 140ms/epoch - 140ms/step\n",
      "1/1 - 0s - 145ms/epoch - 145ms/step\n",
      "1/1 - 0s - 130ms/epoch - 130ms/step\n",
      "1/1 - 0s - 216ms/epoch - 216ms/step\n",
      "1/1 - 0s - 143ms/epoch - 143ms/step\n",
      "1/1 - 0s - 165ms/epoch - 165ms/step\n",
      "1/1 - 0s - 254ms/epoch - 254ms/step\n",
      "1/1 - 0s - 150ms/epoch - 150ms/step\n",
      "1/1 - 0s - 212ms/epoch - 212ms/step\n",
      "1/1 - 0s - 202ms/epoch - 202ms/step\n",
      "1/1 - 0s - 160ms/epoch - 160ms/step\n",
      "1/1 - 0s - 138ms/epoch - 138ms/step\n",
      "1/1 - 0s - 144ms/epoch - 144ms/step\n",
      "1/1 - 0s - 145ms/epoch - 145ms/step\n",
      "1/1 - 0s - 155ms/epoch - 155ms/step\n",
      "1/1 - 0s - 166ms/epoch - 166ms/step\n",
      "1/1 - 0s - 147ms/epoch - 147ms/step\n",
      "1/1 - 0s - 132ms/epoch - 132ms/step\n",
      "1/1 - 0s - 169ms/epoch - 169ms/step\n",
      "1/1 - 0s - 141ms/epoch - 141ms/step\n",
      "1/1 - 0s - 190ms/epoch - 190ms/step\n",
      "1/1 - 0s - 259ms/epoch - 259ms/step\n",
      "1/1 - 0s - 172ms/epoch - 172ms/step\n",
      "1/1 - 0s - 210ms/epoch - 210ms/step\n",
      "1/1 - 0s - 140ms/epoch - 140ms/step\n",
      "1/1 - 0s - 149ms/epoch - 149ms/step\n",
      "1/1 - 0s - 261ms/epoch - 261ms/step\n",
      "1/1 - 0s - 236ms/epoch - 236ms/step\n",
      "1/1 - 0s - 202ms/epoch - 202ms/step\n",
      "1/1 - 0s - 207ms/epoch - 207ms/step\n",
      "1/1 - 0s - 145ms/epoch - 145ms/step\n",
      "1/1 - 0s - 249ms/epoch - 249ms/step\n",
      "1/1 - 0s - 153ms/epoch - 153ms/step\n",
      "1/1 - 0s - 246ms/epoch - 246ms/step\n",
      "1/1 - 0s - 237ms/epoch - 237ms/step\n",
      "1/1 - 0s - 233ms/epoch - 233ms/step\n",
      "1/1 - 0s - 236ms/epoch - 236ms/step\n",
      "1/1 - 0s - 226ms/epoch - 226ms/step\n",
      "1/1 - 0s - 164ms/epoch - 164ms/step\n",
      "1/1 - 0s - 144ms/epoch - 144ms/step\n",
      "1/1 - 0s - 147ms/epoch - 147ms/step\n",
      "1/1 - 0s - 134ms/epoch - 134ms/step\n",
      "1/1 - 0s - 138ms/epoch - 138ms/step\n",
      "1/1 - 0s - 175ms/epoch - 175ms/step\n",
      "1/1 - 0s - 163ms/epoch - 163ms/step\n",
      "1/1 - 0s - 143ms/epoch - 143ms/step\n",
      "1/1 - 0s - 148ms/epoch - 148ms/step\n",
      "1/1 - 0s - 134ms/epoch - 134ms/step\n",
      "1/1 - 0s - 137ms/epoch - 137ms/step\n",
      "1/1 - 0s - 143ms/epoch - 143ms/step\n",
      "1/1 - 0s - 142ms/epoch - 142ms/step\n",
      "1/1 - 0s - 150ms/epoch - 150ms/step\n",
      "1/1 - 0s - 141ms/epoch - 141ms/step\n",
      "1/1 - 0s - 139ms/epoch - 139ms/step\n",
      "1/1 - 0s - 142ms/epoch - 142ms/step\n",
      "1/1 - 0s - 139ms/epoch - 139ms/step\n",
      "1/1 - 0s - 148ms/epoch - 148ms/step\n",
      "1/1 - 0s - 160ms/epoch - 160ms/step\n",
      "1/1 - 0s - 159ms/epoch - 159ms/step\n",
      "1/1 - 0s - 153ms/epoch - 153ms/step\n",
      "1/1 - 0s - 152ms/epoch - 152ms/step\n",
      "1/1 - 0s - 169ms/epoch - 169ms/step\n",
      "1/1 - 0s - 153ms/epoch - 153ms/step\n",
      "1/1 - 0s - 156ms/epoch - 156ms/step\n",
      "1/1 - 0s - 137ms/epoch - 137ms/step\n",
      "1/1 - 0s - 137ms/epoch - 137ms/step\n",
      "1/1 - 0s - 152ms/epoch - 152ms/step\n",
      "1/1 - 0s - 200ms/epoch - 200ms/step\n",
      "1/1 - 0s - 169ms/epoch - 169ms/step\n",
      "1/1 - 0s - 147ms/epoch - 147ms/step\n",
      "1/1 - 0s - 143ms/epoch - 143ms/step\n",
      "1/1 - 0s - 250ms/epoch - 250ms/step\n",
      "1/1 - 0s - 168ms/epoch - 168ms/step\n",
      "1/1 - 0s - 161ms/epoch - 161ms/step\n",
      "1/1 - 0s - 164ms/epoch - 164ms/step\n",
      "1/1 - 0s - 240ms/epoch - 240ms/step\n",
      "1/1 - 0s - 137ms/epoch - 137ms/step\n",
      "1/1 - 0s - 145ms/epoch - 145ms/step\n",
      "1/1 - 0s - 137ms/epoch - 137ms/step\n",
      "1/1 - 0s - 226ms/epoch - 226ms/step\n",
      "1/1 - 0s - 230ms/epoch - 230ms/step\n",
      "1/1 - 0s - 157ms/epoch - 157ms/step\n",
      "1/1 - 0s - 157ms/epoch - 157ms/step\n",
      "1/1 - 0s - 157ms/epoch - 157ms/step\n",
      "1/1 - 0s - 272ms/epoch - 272ms/step\n",
      "1/1 - 0s - 182ms/epoch - 182ms/step\n",
      "1/1 - 0s - 271ms/epoch - 271ms/step\n",
      "1/1 - 0s - 272ms/epoch - 272ms/step\n",
      "1/1 - 0s - 164ms/epoch - 164ms/step\n",
      "1/1 - 0s - 144ms/epoch - 144ms/step\n",
      "1/1 - 0s - 141ms/epoch - 141ms/step\n",
      "1/1 - 0s - 161ms/epoch - 161ms/step\n",
      "1/1 - 0s - 140ms/epoch - 140ms/step\n",
      "1/1 - 0s - 218ms/epoch - 218ms/step\n",
      "1/1 - 0s - 184ms/epoch - 184ms/step\n",
      "1/1 - 0s - 171ms/epoch - 171ms/step\n",
      "1/1 - 0s - 149ms/epoch - 149ms/step\n",
      "1/1 - 0s - 157ms/epoch - 157ms/step\n",
      "1/1 - 0s - 143ms/epoch - 143ms/step\n",
      "1/1 - 0s - 139ms/epoch - 139ms/step\n",
      "1/1 - 0s - 146ms/epoch - 146ms/step\n",
      "1/1 - 0s - 149ms/epoch - 149ms/step\n",
      "1/1 - 0s - 140ms/epoch - 140ms/step\n",
      "1/1 - 0s - 141ms/epoch - 141ms/step\n",
      "1/1 - 0s - 134ms/epoch - 134ms/step\n",
      "1/1 - 0s - 148ms/epoch - 148ms/step\n",
      "1/1 - 0s - 145ms/epoch - 145ms/step\n",
      "1/1 - 0s - 148ms/epoch - 148ms/step\n",
      "1/1 - 0s - 239ms/epoch - 239ms/step\n",
      "1/1 - 0s - 142ms/epoch - 142ms/step\n",
      "1/1 - 0s - 143ms/epoch - 143ms/step\n",
      "1/1 - 0s - 152ms/epoch - 152ms/step\n",
      "1/1 - 0s - 159ms/epoch - 159ms/step\n",
      "1/1 - 0s - 146ms/epoch - 146ms/step\n",
      "1/1 - 0s - 166ms/epoch - 166ms/step\n",
      "1/1 - 0s - 161ms/epoch - 161ms/step\n",
      "1/1 - 0s - 206ms/epoch - 206ms/step\n",
      "1/1 - 0s - 155ms/epoch - 155ms/step\n",
      "1/1 - 0s - 149ms/epoch - 149ms/step\n",
      "1/1 - 0s - 147ms/epoch - 147ms/step\n",
      "1/1 - 0s - 148ms/epoch - 148ms/step\n",
      "1/1 - 0s - 159ms/epoch - 159ms/step\n",
      "1/1 - 0s - 154ms/epoch - 154ms/step\n",
      "1/1 - 0s - 146ms/epoch - 146ms/step\n",
      "1/1 - 0s - 163ms/epoch - 163ms/step\n",
      "1/1 - 0s - 178ms/epoch - 178ms/step\n",
      "1/1 - 0s - 209ms/epoch - 209ms/step\n",
      "1/1 - 0s - 185ms/epoch - 185ms/step\n",
      "1/1 - 0s - 168ms/epoch - 168ms/step\n",
      "1/1 - 0s - 149ms/epoch - 149ms/step\n",
      "1/1 - 0s - 148ms/epoch - 148ms/step\n",
      "1/1 - 0s - 148ms/epoch - 148ms/step\n",
      "1/1 - 0s - 137ms/epoch - 137ms/step\n",
      "1/1 - 0s - 148ms/epoch - 148ms/step\n",
      "1/1 - 0s - 152ms/epoch - 152ms/step\n",
      "1/1 - 0s - 136ms/epoch - 136ms/step\n",
      "1/1 - 0s - 134ms/epoch - 134ms/step\n",
      "1/1 - 0s - 147ms/epoch - 147ms/step\n",
      "1/1 - 0s - 190ms/epoch - 190ms/step\n",
      "1/1 - 0s - 150ms/epoch - 150ms/step\n",
      "1/1 - 0s - 170ms/epoch - 170ms/step\n",
      "1/1 - 0s - 199ms/epoch - 199ms/step\n",
      "1/1 - 0s - 225ms/epoch - 225ms/step\n",
      "1/1 - 0s - 166ms/epoch - 166ms/step\n",
      "1/1 - 0s - 209ms/epoch - 209ms/step\n",
      "1/1 - 0s - 204ms/epoch - 204ms/step\n",
      "1/1 - 0s - 299ms/epoch - 299ms/step\n",
      "1/1 - 0s - 215ms/epoch - 215ms/step\n",
      "1/1 - 0s - 219ms/epoch - 219ms/step\n",
      "1/1 - 0s - 194ms/epoch - 194ms/step\n",
      "1/1 - 0s - 210ms/epoch - 210ms/step\n",
      "1/1 - 0s - 232ms/epoch - 232ms/step\n",
      "1/1 - 0s - 245ms/epoch - 245ms/step\n",
      "1/1 - 0s - 204ms/epoch - 204ms/step\n",
      "1/1 - 0s - 189ms/epoch - 189ms/step\n",
      "1/1 - 0s - 189ms/epoch - 189ms/step\n",
      "1/1 - 0s - 183ms/epoch - 183ms/step\n",
      "1/1 - 0s - 182ms/epoch - 182ms/step\n",
      "1/1 - 0s - 166ms/epoch - 166ms/step\n",
      "1/1 - 0s - 172ms/epoch - 172ms/step\n",
      "1/1 - 0s - 174ms/epoch - 174ms/step\n",
      "1/1 - 0s - 160ms/epoch - 160ms/step\n",
      "1/1 - 0s - 169ms/epoch - 169ms/step\n",
      "1/1 - 0s - 171ms/epoch - 171ms/step\n",
      "1/1 - 0s - 183ms/epoch - 183ms/step\n",
      "1/1 - 0s - 162ms/epoch - 162ms/step\n",
      "1/1 - 0s - 182ms/epoch - 182ms/step\n",
      "1/1 - 0s - 188ms/epoch - 188ms/step\n",
      "1/1 - 0s - 184ms/epoch - 184ms/step\n",
      "1/1 - 0s - 172ms/epoch - 172ms/step\n",
      "1/1 - 0s - 185ms/epoch - 185ms/step\n",
      "1/1 - 0s - 181ms/epoch - 181ms/step\n",
      "1/1 - 0s - 175ms/epoch - 175ms/step\n",
      "1/1 - 0s - 168ms/epoch - 168ms/step\n",
      "1/1 - 0s - 173ms/epoch - 173ms/step\n",
      "1/1 - 0s - 257ms/epoch - 257ms/step\n",
      "1/1 - 0s - 192ms/epoch - 192ms/step\n",
      "1/1 - 0s - 243ms/epoch - 243ms/step\n",
      "1/1 - 0s - 193ms/epoch - 193ms/step\n",
      "1/1 - 0s - 193ms/epoch - 193ms/step\n",
      "1/1 - 0s - 197ms/epoch - 197ms/step\n",
      "1/1 - 0s - 183ms/epoch - 183ms/step\n",
      "1/1 - 0s - 202ms/epoch - 202ms/step\n",
      "1/1 - 0s - 203ms/epoch - 203ms/step\n",
      "1/1 - 0s - 195ms/epoch - 195ms/step\n",
      "1/1 - 0s - 332ms/epoch - 332ms/step\n",
      "positive_acc 100.0 %\n",
      "negative_acc 0.0 %\n"
     ]
    }
   ],
   "source": [
    "pos_cnt, neg_cnt, pos_correct, neg_correct = 0, 0, 0, 0\n",
    "for x in range(len(X_validate)):\n",
    "    result = model.predict(X_validate[x].reshape(1,x_test.shape[1]),verbose = 2)[0]\n",
    "    if np.argmax(result) == np.argmax(Y_validate[x]):\n",
    "        if np.argmax(Y_validate[x]) == 0:\n",
    "            neg_correct += 1\n",
    "        else:\n",
    "            pos_correct += 1\n",
    "    if np.argmax(Y_validate[x]) == 0:\n",
    "        neg_cnt += 1\n",
    "    else:\n",
    "        pos_cnt += 1\n",
    "print(\"positive_acc\", pos_correct/pos_cnt*100, \"%\")\n",
    "print(\"negative_acc\", neg_correct/neg_cnt*100, \"%\")"
   ]
  },
  {
   "cell_type": "code",
   "execution_count": 73,
   "id": "7f5589dc",
   "metadata": {},
   "outputs": [
    {
     "name": "stdout",
     "output_type": "stream",
     "text": [
      "[[  0   0   0   0   0   0   0   0   0   0   0   0   0   0   0   0   0   0\n",
      "    0   0   0   0   0   0   0   0   0   0   0   0   0   0   0   0   0   0\n",
      "    0   0   0   0   0   0   0   0   0   0   0   0   0   0   0   0   0   0\n",
      "    0   0   0   0   0   0   0   0   0   0   0   0   0   0   0   0   0   0\n",
      "    0   0   0   0   0   0   0   0   0   0   0   0   0   0   0   0   0   0\n",
      "    0   0   0   0   0   0   0   0   0   0   0   0   0   0   0   0   0   0\n",
      "    0   0   0   0   0   0   0   0   0   0   0   0   0   0   0   0   0   0\n",
      "    0   0   0   0   0   0   0   0   0   0   0   0   0   0   0   0   0   0\n",
      "    0   0   0   0   0   0   0   0   0   0   0   0   0   0   0   0   0   0\n",
      "    0   0   0   0   0   0   0   0   0   0   0   0   0   0   0   0   0   0\n",
      "    0   0   0   0   0   0   0   0   0   0   0   0   0   0   0   0   0   0\n",
      "    0  53 683  12 754]]\n",
      "1/1 - 0s - 163ms/epoch - 163ms/step\n",
      "positive\n"
     ]
    }
   ],
   "source": [
    "#now testing  on a random sample from the Facebook comments on Kindle's page:\n",
    "cmnt = ['your service is worst']\n",
    "#vectorizing the comment\n",
    "cmnt = tokenizer.texts_to_sequences(cmnt)\n",
    "cmnt = pad_sequences(cmnt, maxlen=203, dtype='int32', value=0)\n",
    "print(cmnt)\n",
    "sentiment = model.predict(cmnt,batch_size=2,verbose = 2)[0]\n",
    "if(np.argmax(sentiment) == 0):\n",
    "    print(\"negative\")\n",
    "elif (np.argmax(sentiment) == 1):\n",
    "    print(\"positive\")"
   ]
  },
  {
   "cell_type": "code",
   "execution_count": 74,
   "id": "e16edb37",
   "metadata": {},
   "outputs": [
    {
     "name": "stdout",
     "output_type": "stream",
     "text": [
      "1/1 - 0s - 136ms/epoch - 136ms/step\n",
      "positive\n"
     ]
    }
   ],
   "source": [
    "# #now testing  on a random sample from the Facebook comments\n",
    "cmnt = ['Why is the newer version of the iphone so much more expensive than the earlier iPhone?']\n",
    "cmnt = tokenizer.texts_to_sequences(cmnt)\n",
    "cmnt = pad_sequences(cmnt, maxlen=203, dtype='int32', value=0)\n",
    "\n",
    "# Predict sentiment\n",
    "sentiment = model.predict(cmnt, batch_size=2, verbose=2)[0]\n",
    "predicted_sentiment = np.argmax(sentiment)\n",
    "\n",
    "# Define sentiment classes\n",
    "sentiment_classes = {0: \"negative\", 1: \"positive\"}\n",
    "\n",
    "# Print predicted sentiment\n",
    "if predicted_sentiment in sentiment_classes:\n",
    "    print(sentiment_classes[predicted_sentiment])\n",
    "else:\n",
    "    print(\"Unknown sentiment\")"
   ]
  },
  {
   "cell_type": "code",
   "execution_count": 37,
   "id": "a6416305",
   "metadata": {
    "scrolled": true
   },
   "outputs": [
    {
     "name": "stdout",
     "output_type": "stream",
     "text": [
      "[[  0   0   0   0   0   0   0   0   0   0   0   0   0   0   0   0   0   0\n",
      "    0   0   0   0   0   0   0   0   0   0   0   0   0   0   0   0   0   0\n",
      "    0   0   0   0   0   0   0   0   0   0   0   0   0   0   0   0   0   0\n",
      "    0   0   0   0   0   0   0   0   0   0   0   0   0   0   0   0   0   0\n",
      "    0   0   0   0   0   0   0   0   0   0   0   0   0   0   0   0   0   0\n",
      "    0   0   0   0   0   0   0   0   0   0   0   0   0   0   0   0   0   0\n",
      "    0   0   0   0   0   0   0   0   0   0   0   0   0   0   0   0   0   0\n",
      "    0   0   0   0   0   0   0   0   0   0   0   0   0   0   0   0   0   0\n",
      "    0   0   0   0   0   0   0   0   0   0   0   0   0   0   0   0   0   0\n",
      "    0   0   0   0   0   0   0   0   0   0   0   0   0   0   0   0   0   0\n",
      "    0   0   0   0   0   0   0   0   0   0   0   0   0   0   0   0   0   0\n",
      "    0  53 683  12 289]]\n",
      "1/1 - 0s - 153ms/epoch - 153ms/step\n",
      "negative\n"
     ]
    }
   ],
   "source": [
    "#now testing  on a random sample from the Facebook comments on Kindle's page:\n",
    "cmnt = ['your service is bad']\n",
    "#vectorizing the comment\n",
    "cmnt = tokenizer.texts_to_sequences(cmnt)\n",
    "cmnt = pad_sequences(cmnt, maxlen=203, dtype='int32', value=0)\n",
    "print(cmnt)\n",
    "sentiment = model.predict(cmnt,batch_size=2,verbose = 2)[0]\n",
    "if(np.argmax(sentiment) == 0):\n",
    "    print(\"negative\")\n",
    "elif (np.argmax(sentiment) == 1):\n",
    "    print(\"positive\")"
   ]
  },
  {
   "cell_type": "code",
   "execution_count": 75,
   "id": "fb421799",
   "metadata": {
    "scrolled": false
   },
   "outputs": [
    {
     "name": "stdout",
     "output_type": "stream",
     "text": [
      "[[   0    0    0    0    0    0    0    0    0    0    0    0    0    0\n",
      "     0    0    0    0    0    0    0    0    0    0    0    0    0    0\n",
      "     0    0    0    0    0    0    0    0    0    0    0    0    0    0\n",
      "     0    0    0    0    0    0    0    0    0    0    0    0    0    0\n",
      "     0    0    0    0    0    0    0    0    0    0    0    0    0    0\n",
      "     0    0    0    0    0    0    0    0    0    0    0    0    0    0\n",
      "     0    0    0    0    0    0    0    0    0    0    0    0    0    0\n",
      "     0    0    0    0    0    0    0    0    0    0    0    0    0    0\n",
      "     0    0    0    0    0    0    0    0    0    0    0    0    0    0\n",
      "     0    0    0    0    0    0    0    0    0    0    0    0    0    0\n",
      "     0    0    0    0    0    0    0    0    0    0    0    0    0    0\n",
      "     0    0    0    0    0    0    0    0    0    0    0    0    0    0\n",
      "     0    0    0    0    0    0    0    0    0    0    0    0    0    0\n",
      "     0    0    0    0    0    0    0    0    0    0    0    0    0    0\n",
      "     0    0    0   53  683   71 1323]]\n",
      "1/1 - 0s - 145ms/epoch - 145ms/step\n",
      "positive\n"
     ]
    }
   ],
   "source": [
    "#now testing  on a random sample from the Facebook comments on Kindle's page:\n",
    "cmnt = ['your service has problems']\n",
    "#vectorizing the comment\n",
    "cmnt = tokenizer.texts_to_sequences(cmnt)\n",
    "cmnt = pad_sequences(cmnt, maxlen=203, dtype='int32', value=0)\n",
    "print(cmnt)\n",
    "sentiment = model.predict(cmnt,batch_size=2,verbose = 2)[0]\n",
    "if(np.argmax(sentiment) == 0):\n",
    "    print(\"negative\")\n",
    "elif (np.argmax(sentiment) == 1):\n",
    "    print(\"positive\")"
   ]
  },
  {
   "cell_type": "code",
   "execution_count": 76,
   "id": "a22b935c",
   "metadata": {},
   "outputs": [
    {
     "name": "stdout",
     "output_type": "stream",
     "text": [
      "[[  0   0   0   0   0   0   0   0   0   0   0   0   0   0   0   0   0   0\n",
      "    0   0   0   0   0   0   0   0   0   0   0   0   0   0   0   0   0   0\n",
      "    0   0   0   0   0   0   0   0   0   0   0   0   0   0   0   0   0   0\n",
      "    0   0   0   0   0   0   0   0   0   0   0   0   0   0   0   0   0   0\n",
      "    0   0   0   0   0   0   0   0   0   0   0   0   0   0   0   0   0   0\n",
      "    0   0   0   0   0   0   0   0   0   0   0   0   0   0   0   0   0   0\n",
      "    0   0   0   0   0   0   0   0   0   0   0   0   0   0   0   0   0   0\n",
      "    0   0   0   0   0   0   0   0   0   0   0   0   0   0   0   0   0   0\n",
      "    0   0   0   0   0   0   0   0   0   0   0   0   0   0   0   0   0   0\n",
      "    0   0   0   0   0   0   0   0   0   0   0   0   0   0   0   0   0   0\n",
      "    0   0   0   0   0   0   0   0   0   0   0   0   0   0   0   0   0   0\n",
      "    0  53 683  12 117]]\n",
      "1/1 - 0s - 161ms/epoch - 161ms/step\n",
      "positive\n"
     ]
    }
   ],
   "source": [
    "#now testing  on a random sample from the Facebook comments on Kindle's page:\n",
    "cmnt = ['your service is good']\n",
    "#vectorizing the comment\n",
    "cmnt = tokenizer.texts_to_sequences(cmnt)\n",
    "cmnt = pad_sequences(cmnt, maxlen=203, dtype='int32', value=0)\n",
    "print(cmnt)\n",
    "sentiment = model.predict(cmnt,batch_size=2,verbose = 2)[0]\n",
    "if(np.argmax(sentiment) == 0):\n",
    "    print(\"negative\")\n",
    "elif (np.argmax(sentiment) == 1):\n",
    "    print(\"positive\")"
   ]
  },
  {
   "cell_type": "code",
   "execution_count": 35,
   "id": "a8e270ba",
   "metadata": {},
   "outputs": [
    {
     "name": "stdout",
     "output_type": "stream",
     "text": [
      "Accuracy: 0.6911764705882353\n",
      "Precision: 0.7168067226890756\n",
      "Recall: 0.6911764705882353\n",
      "F1 Score: 0.6598121729578211\n"
     ]
    },
    {
     "data": {
      "text/plain": [
       "Text(33.0, 0.5, 'True Labels')"
      ]
     },
     "execution_count": 35,
     "metadata": {},
     "output_type": "execute_result"
    },
    {
     "data": {
      "image/png": "[encoded data removed]",
      "text/plain": [
       "<Figure size 432x288 with 2 Axes>"
      ]
     },
     "metadata": {
      "needs_background": "light"
     },
     "output_type": "display_data"
    }
   ],
   "source": [
    "#SVM\n",
    "\n",
    "import pandas as pd\n",
    "import seaborn as sns\n",
    "from sklearn.feature_extraction.text import TfidfVectorizer\n",
    "from sklearn.model_selection import train_test_split\n",
    "from sklearn.svm import SVC\n",
    "from sklearn.metrics import accuracy_score\n",
    "\n",
    "# Load data\n",
    "df = pd.read_csv('D:\\\\Dissertation\\\\fb_sentiment_2.csv')\n",
    "\n",
    "# Split data into training and testing sets\n",
    "X_train, X_test, y_train, y_test = train_test_split(df['Text'], df['Sentiment'], test_size=0.2, random_state=42)\n",
    "\n",
    "# Remove rows with NaN values from X_train and y_train\n",
    "X_train = X_train.dropna()\n",
    "y_train = y_train.dropna()\n",
    "\n",
    "# Fit the vectorizer to the training data and transform both the training and testing data\n",
    "X_train_tfidf = vectorizer.fit_transform(X_train)\n",
    "X_test_tfidf = vectorizer.transform(X_test)\n",
    "\n",
    "# Create a TF-IDF vectorizer\n",
    "vectorizer = TfidfVectorizer()\n",
    "\n",
    "# Train an SVM classifier on the TF-IDF transformed training data\n",
    "svm_model = SVC(kernel='linear')\n",
    "svm_model.fit(X_train_tfidf, y_train)\n",
    "\n",
    "# Predict the sentiment for the testing data using the trained SVM classifier\n",
    "y_pred = svm_model.predict(X_test_tfidf)\n",
    "\n",
    "\n",
    "# Evaluate the model\n",
    "accuracy = accuracy_score(y_test, y_pred)\n",
    "precision = precision_score(y_test, y_pred, average='weighted')\n",
    "recall = recall_score(y_test, y_pred, average='weighted')\n",
    "f1 = f1_score(y_test, y_pred, average='weighted')\n",
    "cm = confusion_matrix(y_test, y_pred)\n",
    "\n",
    "print('Accuracy:', accuracy)\n",
    "print('Precision:', precision)\n",
    "print('Recall:', recall)\n",
    "print('F1 Score:', f1)\n",
    "\n",
    "# Plot the confusion matrix using heatmap\n",
    "labels = ['negative', 'positive']\n",
    "sns.heatmap(cm, annot=True, cmap='viridis', xticklabels=labels, yticklabels=labels)\n",
    "plt.title('Confusion Matrix')\n",
    "plt.xlabel('Predicted Labels')\n",
    "plt.ylabel('True Labels')\n",
    "\n"
   ]
  },
  {
   "cell_type": "code",
   "execution_count": 108,
   "id": "1c778e7c",
   "metadata": {},
   "outputs": [
    {
     "name": "stdout",
     "output_type": "stream",
     "text": [
      "Requirement already satisfied: keras in c:\\users\\nages\\anaconda3\\lib\\site-packages (2.12.0)\n",
      "Note: you may need to restart the kernel to use updated packages.\n"
     ]
    }
   ],
   "source": [
    "pip install keras"
   ]
  },
  {
   "cell_type": "code",
   "execution_count": 119,
   "id": "b88bce41",
   "metadata": {},
   "outputs": [
    {
     "name": "stdout",
     "output_type": "stream",
     "text": [
      "Epoch 1/20\n",
      "11/11 [==============================] - 2s 47ms/step - loss: 0.0798 - acc: 0.2958 - val_loss: -0.8721 - val_acc: 0.2209\n",
      "Epoch 2/20\n",
      "11/11 [==============================] - 0s 20ms/step - loss: -0.8700 - acc: 0.3005 - val_loss: -1.3953 - val_acc: 0.2209\n",
      "Epoch 3/20\n",
      "11/11 [==============================] - 0s 20ms/step - loss: -1.2000 - acc: 0.3035 - val_loss: -1.6103 - val_acc: 0.2209\n",
      "Epoch 4/20\n",
      "11/11 [==============================] - 0s 19ms/step - loss: -1.4626 - acc: 0.3051 - val_loss: -1.8018 - val_acc: 0.2209\n",
      "Epoch 5/20\n",
      "11/11 [==============================] - 0s 19ms/step - loss: -1.6611 - acc: 0.3082 - val_loss: -2.1720 - val_acc: 0.2209\n",
      "Epoch 6/20\n",
      "11/11 [==============================] - 0s 19ms/step - loss: -1.8226 - acc: 0.3066 - val_loss: -2.3488 - val_acc: 0.2209\n",
      "Epoch 7/20\n",
      "11/11 [==============================] - 0s 20ms/step - loss: -2.0331 - acc: 0.3082 - val_loss: -2.6122 - val_acc: 0.2209\n",
      "Epoch 8/20\n",
      "11/11 [==============================] - 0s 22ms/step - loss: -2.1601 - acc: 0.3082 - val_loss: -2.7808 - val_acc: 0.2209\n",
      "Epoch 9/20\n",
      "11/11 [==============================] - 0s 25ms/step - loss: -2.3681 - acc: 0.3066 - val_loss: -2.9678 - val_acc: 0.2209\n",
      "Epoch 10/20\n",
      "11/11 [==============================] - 0s 22ms/step - loss: -2.5202 - acc: 0.3066 - val_loss: -2.6124 - val_acc: 0.2209\n",
      "Epoch 11/20\n",
      "11/11 [==============================] - 0s 23ms/step - loss: -2.6466 - acc: 0.3066 - val_loss: -3.2864 - val_acc: 0.2209\n",
      "Epoch 12/20\n",
      "11/11 [==============================] - 0s 21ms/step - loss: -2.8008 - acc: 0.3066 - val_loss: -3.4245 - val_acc: 0.2209\n",
      "Epoch 13/20\n",
      "11/11 [==============================] - 0s 20ms/step - loss: -2.9598 - acc: 0.3066 - val_loss: -3.6475 - val_acc: 0.2209\n",
      "Epoch 14/20\n",
      "11/11 [==============================] - 0s 19ms/step - loss: -3.0790 - acc: 0.3097 - val_loss: -3.8212 - val_acc: 0.2209\n",
      "Epoch 15/20\n",
      "11/11 [==============================] - 0s 28ms/step - loss: -3.2687 - acc: 0.3097 - val_loss: -3.5420 - val_acc: 0.2209\n",
      "Epoch 16/20\n",
      "11/11 [==============================] - 0s 24ms/step - loss: -3.3703 - acc: 0.3112 - val_loss: -4.1093 - val_acc: 0.2209\n",
      "Epoch 17/20\n",
      "11/11 [==============================] - 0s 26ms/step - loss: -3.5570 - acc: 0.3082 - val_loss: -4.1444 - val_acc: 0.2209\n",
      "Epoch 18/20\n",
      "11/11 [==============================] - 0s 30ms/step - loss: -3.6944 - acc: 0.3082 - val_loss: -4.3607 - val_acc: 0.2209\n",
      "Epoch 19/20\n",
      "11/11 [==============================] - 0s 25ms/step - loss: -3.8084 - acc: 0.3143 - val_loss: -4.4827 - val_acc: 0.2209\n",
      "Epoch 20/20\n",
      "11/11 [==============================] - 0s 21ms/step - loss: -3.9837 - acc: 0.3112 - val_loss: -4.6478 - val_acc: 0.2209\n",
      "7/7 [==============================] - 0s 5ms/step - loss: -2.6947 - acc: 0.2451\n",
      "Test loss: -2.695, Test accuracy: 0.245\n"
     ]
    }
   ],
   "source": [
    "#RNN\n",
    "\n",
    "import pandas as pd\n",
    "import numpy as np\n",
    "from keras.models import Sequential\n",
    "from keras.layers import Embedding, SimpleRNN, Dense\n",
    "from keras.preprocessing.text import Tokenizer\n",
    "from tensorflow.keras.preprocessing.sequence import pad_sequences\n",
    "from sklearn.metrics import accuracy_score\n",
    "\n",
    "# Load the dataset\n",
    "df = pd.read_csv('D:\\\\Dissertation\\\\fb_sentiment_2.csv')\n",
    "\n",
    "# Drop the rows with missing values\n",
    "df = df.dropna()\n",
    "\n",
    "# Preprocess the text data\n",
    "df['Text'] = df['Text'].astype(str) # convert the 'Text' column to string\n",
    "tokenizer = Tokenizer()\n",
    "tokenizer.fit_on_texts(df['Text'])\n",
    "sequences = tokenizer.texts_to_sequences(df['Text'])\n",
    "X = pad_sequences(sequences, maxlen=50)\n",
    "\n",
    "\n",
    "from sklearn.preprocessing import LabelEncoder\n",
    "\n",
    "# Convert the sentiment values to numerical values\n",
    "le = LabelEncoder()\n",
    "y = le.fit_transform(df['Sentiment'])\n",
    "\n",
    "# Split the data into training and test sets\n",
    "split = int(0.8 * len(df))\n",
    "X_train, X_test = X[:split], X[split:]\n",
    "y_train, y_test = y[:split], y[split:]\n",
    "\n",
    "# Define the RNN model\n",
    "model = Sequential()\n",
    "model.add(Embedding(input_dim=len(tokenizer.word_index)+1, output_dim=32, input_length=50))\n",
    "model.add(SimpleRNN(16, activation='tanh'))\n",
    "model.add(Dense(1, activation='sigmoid'))\n",
    "\n",
    "# Compile the model\n",
    "model.compile(optimizer='rmsprop', loss='binary_crossentropy', metrics=['acc'])\n",
    "\n",
    "# Train the model\n",
    "model.fit(X_train, y_train, epochs=20, batch_size=64, validation_split=0.2)\n",
    "\n",
    "# Evaluate the model on the test set\n",
    "loss, acc = model.evaluate(X_test, y_test)\n",
    "print(f'Test loss: {loss:.3f}, Test accuracy: {acc:.3f}')\n",
    "\n",
    "\n"
   ]
  },
  {
   "cell_type": "code",
   "execution_count": 23,
   "id": "4129ce20",
   "metadata": {},
   "outputs": [
    {
     "name": "stdout",
     "output_type": "stream",
     "text": [
      "Confusion Matrix:\n",
      "[[  2   2  16]\n",
      " [  2  14  45]\n",
      " [  0   7 116]]\n",
      "F1 Score: 0.5822875816993465\n",
      "Accuracy: 0.6470588235294118\n",
      "Precision: 0.6261794327163437\n",
      "Recall: 0.6470588235294118\n"
     ]
    },
    {
     "data": {
      "image/png": "[encoded data removed]",
      "text/plain": [
       "<Figure size 432x288 with 2 Axes>"
      ]
     },
     "metadata": {
      "needs_background": "light"
     },
     "output_type": "display_data"
    }
   ],
   "source": [
    "# Print the evaluation metrics\n",
    "print('Confusion Matrix:')\n",
    "print(confusion_mat)\n",
    "print('F1 Score:', f1)\n",
    "print('Accuracy:', accuracy)\n",
    "print('Precision:', precision)\n",
    "print('Recall:', recall)\n",
    "\n",
    "# Create a heatmap of the confusion matrix\n",
    "labels = sorted(data['Sentiment'].astype(str).unique())\n",
    "heatmap = sns.heatmap(confusion_mat, annot=True, fmt='d', cmap='autumn', xticklabels=labels, yticklabels=labels)\n",
    "plt.xlabel('Predicted')\n",
    "plt.ylabel('True')\n",
    "plt.title('Confusion Matrix')\n",
    "plt.show()\n",
    "\n"
   ]
  },
  {
   "cell_type": "code",
   "execution_count": 21,
   "id": "6d86e3d2",
   "metadata": {},
   "outputs": [
    {
     "name": "stdout",
     "output_type": "stream",
     "text": [
      "Confusion Matrix:\n",
      "[[  2   2  16]\n",
      " [  2  14  45]\n",
      " [  0   7 116]]\n",
      "F1 Score: 0.5822875816993465\n",
      "Accuracy: 0.6470588235294118\n",
      "Precision: 0.6261794327163437\n",
      "Recall: 0.6470588235294118\n"
     ]
    },
    {
     "data": {
      "image/png": "[encoded data removed]",
      "text/plain": [
       "<Figure size 432x288 with 2 Axes>"
      ]
     },
     "metadata": {
      "needs_background": "light"
     },
     "output_type": "display_data"
    }
   ],
   "source": [
    "# Naive Bayes\n",
    "\n",
    "import pandas as pd\n",
    "import seaborn as sns\n",
    "import matplotlib.pyplot as plt\n",
    "from sklearn.feature_extraction.text import CountVectorizer\n",
    "from sklearn.model_selection import train_test_split\n",
    "from sklearn.naive_bayes import MultinomialNB\n",
    "from sklearn.metrics import confusion_matrix, f1_score, accuracy_score, precision_score, recall_score\n",
    "\n",
    "# Load the dataset\n",
    "data = pd.read_csv('D:\\\\Dissertation\\\\fb_sentiment_2.csv')\n",
    "\n",
    "# Preprocess the data\n",
    "data['Text'] = data['Text'].fillna('')  # Replace NaN values with empty string\n",
    "\n",
    "# Split the data into training and testing sets\n",
    "X_train, X_test, y_train, y_test = train_test_split(data['Text'], data['Sentiment'], test_size=0.2, random_state=42)\n",
    "\n",
    "# Create a CountVectorizer to convert text into a matrix of token counts\n",
    "vectorizer = CountVectorizer()\n",
    "X_train_counts = vectorizer.fit_transform(X_train)\n",
    "X_test_counts = vectorizer.transform(X_test)\n",
    "\n",
    "# Handle missing values in the target variable\n",
    "y_train = y_train.fillna('')  # Replace NaN values with empty string\n",
    "\n",
    "# Train a Naive Bayes classifier\n",
    "naive_bayes = MultinomialNB()\n",
    "naive_bayes.fit(X_train_counts, y_train)\n",
    "\n",
    "# Make predictions on the testing data\n",
    "y_pred = naive_bayes.predict(X_test_counts)\n",
    "\n",
    "# Compute evaluation metrics\n",
    "confusion_mat = confusion_matrix(y_test, y_pred)\n",
    "f1 = f1_score(y_test, y_pred, average='weighted')\n",
    "accuracy = accuracy_score(y_test, y_pred)\n",
    "precision = precision_score(y_test, y_pred, average='weighted')\n",
    "recall = recall_score(y_test, y_pred, average='weighted')\n",
    "\n",
    "# Print the evaluation metrics\n",
    "print('Confusion Matrix:')\n",
    "print(confusion_mat)\n",
    "print('F1 Score:', f1)\n",
    "print('Accuracy:', accuracy)\n",
    "print('Precision:', precision)\n",
    "print('Recall:', recall)\n",
    "\n",
    "# Create a heatmap of the confusion matrix\n",
    "labels = sorted(data['Sentiment'].astype(str).unique())\n",
    "heatmap = sns.heatmap(confusion_mat, annot=True, fmt='d', cmap='Greens', xticklabels=labels, yticklabels=labels)\n",
    "plt.xlabel('Predicted')\n",
    "plt.ylabel('True')\n",
    "plt.title('Confusion Matrix')\n",
    "plt.show()\n"
   ]
  },
  {
   "cell_type": "code",
   "execution_count": 38,
   "id": "a8935669",
   "metadata": {},
   "outputs": [
    {
     "name": "stdout",
     "output_type": "stream",
     "text": [
      "No NaN values found in the target variable.\n",
      "Confusion Matrix:\n",
      "[[  0   3  17]\n",
      " [  0  30  31]\n",
      " [  0  10 113]]\n",
      "F1 Score: 0.6523166146198457\n",
      "Accuracy: 0.7009803921568627\n",
      "Precision: 0.7298398631444489\n",
      "Recall: 0.7009803921568627\n"
     ]
    },
    {
     "data": {
      "image/png": "[encoded data removed]",
      "text/plain": [
       "<Figure size 432x288 with 2 Axes>"
      ]
     },
     "metadata": {
      "needs_background": "light"
     },
     "output_type": "display_data"
    }
   ],
   "source": [
    "# Logistic Regression\n",
    "\n",
    "from sklearn.model_selection import train_test_split\n",
    "from sklearn.feature_extraction.text import TfidfVectorizer\n",
    "from sklearn.linear_model import LogisticRegression\n",
    "from sklearn.metrics import confusion_matrix, f1_score, accuracy_score, precision_score, recall_score\n",
    "from sklearn.impute import SimpleImputer\n",
    "import seaborn as sns\n",
    "import pandas as pd\n",
    "import numpy as np\n",
    "from sklearn.preprocessing import LabelEncoder\n",
    "\n",
    "\n",
    "\n",
    "# Load the dataset\n",
    "data = pd.read_csv('D:\\\\Dissertation\\\\fb_sentiment_2.csv')\n",
    "\n",
    "# Encode the target variable\n",
    "label_encoder = LabelEncoder()\n",
    "y_train_encoded = label_encoder.fit_transform(y_train)\n",
    "\n",
    "# Handling missing values\n",
    "data['Text'].fillna('', inplace=True)\n",
    "\n",
    "\n",
    "\n",
    "# Split the data into training and testing sets\n",
    "X = data['Text']\n",
    "y = data['Sentiment']\n",
    "X_train, X_test, y_train, y_test = train_test_split(X, y, test_size=0.2, random_state=42)\n",
    "\n",
    "# Create TF-IDF vectorizer\n",
    "vectorizer = TfidfVectorizer()\n",
    "X_train_vec = vectorizer.fit_transform(X_train)\n",
    "X_test_vec = vectorizer.transform(X_test)\n",
    "\n",
    "# Convert sparse matrix to dense array\n",
    "X_train_vec = X_train_vec.toarray()\n",
    "X_test_vec = X_test_vec.toarray()\n",
    "\n",
    "    \n",
    "# Check for NaN values in the target variable (y_train_encoded) and remove corresponding samples\n",
    "nan_indices = np.isnan(y_train_encoded.astype(float))\n",
    "if np.any(nan_indices):\n",
    "    print(\"NaN values found in the target variable. Removing corresponding samples.\")\n",
    "    X_train_vec = X_train_vec[~nan_indices]\n",
    "    y_train_encoded = y_train_encoded[~nan_indices]\n",
    "else:\n",
    "    print(\"No NaN values found in the target variable.\")\n",
    "\n",
    "# Train the logistic regression model\n",
    "model = LogisticRegression()\n",
    "model.fit(X_train_vec, y_train_encoded)\n",
    "\n",
    "# Handling missing values in the test set\n",
    "imputer = SimpleImputer(strategy='mean')\n",
    "X_test_vec = imputer.fit_transform(X_test_vec)\n",
    "\n",
    "# Make predictions on the test set\n",
    "y_pred = model.predict(X_test_vec)\n",
    "\n",
    "# Convert the predicted values to string labels\n",
    "y_pred_labels = label_encoder.inverse_transform(y_pred)\n",
    "\n",
    "\n",
    "# Compute evaluation metrics\n",
    "confusion = confusion_matrix(y_test, y_pred_labels)\n",
    "f1 = f1_score(y_test, y_pred_labels, average='weighted')\n",
    "accuracy = accuracy_score(y_test, y_pred_labels)\n",
    "precision = precision_score(y_test, y_pred_labels, average='weighted',zero_division=1)\n",
    "recall = recall_score(y_test, y_pred_labels, average='weighted')\n",
    "\n",
    "# Print the evaluation metrics\n",
    "print(\"Confusion Matrix:\")\n",
    "print(confusion)\n",
    "print(\"F1 Score:\", f1)\n",
    "print(\"Accuracy:\", accuracy)\n",
    "print(\"Precision:\", precision)\n",
    "print(\"Recall:\", recall)\n",
    "\n",
    "# Plot the confusion matrix as a heatmap\n",
    "\n",
    "labels = sorted(data['Sentiment'].astype(str).unique())\n",
    "heatmap = sns.heatmap(confusion_mat, annot=True, fmt='d', cmap='Blues', xticklabels=labels, yticklabels=labels)\n",
    "plt.xlabel('Predicted')\n",
    "plt.ylabel('True')\n",
    "plt.title('Confusion Matrix')\n",
    "plt.show()\n",
    "\n"
   ]
  },
  {
   "cell_type": "code",
   "execution_count": 12,
   "id": "58215b32",
   "metadata": {},
   "outputs": [
    {
     "name": "stdout",
     "output_type": "stream",
     "text": [
      "Confusion Matrix:\n",
      "[[  3   2  17]\n",
      " [  1  12  48]\n",
      " [  0   6 115]]\n",
      "Confusion Matrix:\n",
      "[[  3   2  17]\n",
      " [  1  12  48]\n",
      " [  0   6 115]]\n",
      "F1 Score: 0.5667130829009533\n",
      "Accuracy: 0.6372549019607843\n",
      "Precision: 0.6392429193899781\n",
      "Recall: 0.6372549019607843\n"
     ]
    },
    {
     "data": {
      "image/png": "[encoded data removed]",
      "text/plain": [
       "<Figure size 432x288 with 2 Axes>"
      ]
     },
     "metadata": {
      "needs_background": "light"
     },
     "output_type": "display_data"
    }
   ],
   "source": [
    "# KNN\n",
    "\n",
    "import pandas as pd\n",
    "import numpy as np\n",
    "import seaborn as sns\n",
    "import matplotlib.pyplot as plt\n",
    "from sklearn.feature_extraction.text import TfidfVectorizer\n",
    "from sklearn.model_selection import train_test_split\n",
    "from sklearn.neighbors import KNeighborsClassifier\n",
    "from sklearn.metrics import confusion_matrix, classification_report\n",
    "from sklearn.neighbors import KNeighborsClassifier\n",
    "from sklearn.metrics import confusion_matrix, precision_score, recall_score, f1_score\n",
    "\n",
    "\n",
    "# Load the dataset\n",
    "data = pd.read_csv('D:\\\\Dissertation\\\\fb_sentiment_2.csv')\n",
    "\n",
    "# Remove rows with missing values\n",
    "data = data.dropna()\n",
    "\n",
    "# Preprocess the data\n",
    "X = data['Text']\n",
    "y = data['Sentiment']\n",
    "\n",
    "# Split the data into training and test sets\n",
    "X_train, X_test, y_train, y_test = train_test_split(X, y, test_size=0.2, random_state=42)\n",
    "\n",
    "# Vectorize the text data\n",
    "vectorizer = TfidfVectorizer()\n",
    "X_train_vec = vectorizer.fit_transform(X_train)\n",
    "X_test_vec = vectorizer.transform(X_test)\n",
    "\n",
    "# Train the KNN classifier\n",
    "knn = KNeighborsClassifier(n_neighbors=5)\n",
    "knn.fit(X_train_vec, y_train)\n",
    "\n",
    "# Make predictions on the test set\n",
    "y_pred = knn.predict(X_test_vec)\n",
    "\n",
    "# Compute evaluation metrics\n",
    "#confusion = confusion_matrix(y_test, y_pred)\n",
    "#f1 = classification_report(y_test, y_pred)\n",
    "#accuracy = knn.score(X_test_vec, y_test)\n",
    "\n",
    "# Print the evaluation metrics\n",
    "print('Confusion Matrix:')\n",
    "print(confusion)\n",
    "#print('\\nF1 Score:')\n",
    "#print(f1)\n",
    "#print('\\nAccuracy:', accuracy)\n",
    "\n",
    "\n",
    "# Compute evaluation metrics\n",
    "confusion = confusion_matrix(y_test, y_pred)\n",
    "precision = precision_score(y_test, y_pred, average='weighted')\n",
    "recall = recall_score(y_test, y_pred, average='weighted')\n",
    "f1 = f1_score(y_test, y_pred, average='weighted')\n",
    "\n",
    "# Print evaluation metrics\n",
    "print(\"Confusion Matrix:\")\n",
    "print(confusion)\n",
    "print(\"F1 Score:\", f1)\n",
    "print(\"Accuracy:\", accuracy)\n",
    "print(\"Precision:\", precision)\n",
    "print(\"Recall:\", recall)\n",
    "\n",
    "# Create a heatmap of the confusion matrix\n",
    "labels = sorted(data['Sentiment'].unique())\n",
    "heatmap = sns.heatmap(confusion, annot=True, fmt='d', cmap='Oranges', xticklabels=labels, yticklabels=labels)\n",
    "plt.xlabel('Predicted')\n",
    "plt.ylabel('True')\n",
    "plt.title('Confusion Matrix')\n",
    "plt.show()\n"
   ]
  },
  {
   "cell_type": "code",
   "execution_count": 20,
   "id": "b9b79ff2",
   "metadata": {},
   "outputs": [
    {
     "name": "stdout",
     "output_type": "stream",
     "text": [
      "Confusion Matrix:\n",
      "[[  5   7  10]\n",
      " [  4  43  14]\n",
      " [  2  16 103]]\n",
      "\n",
      "Precision: 0.7248837377948077\n",
      "Recall: 0.7401960784313726\n",
      "F1 Score: 0.7278520480243577\n",
      "Accuracy: 0.7401960784313726\n"
     ]
    },
    {
     "data": {
      "image/png": "[encoded data removed]",
      "text/plain": [
       "<Figure size 432x288 with 2 Axes>"
      ]
     },
     "metadata": {
      "needs_background": "light"
     },
     "output_type": "display_data"
    }
   ],
   "source": [
    "# XGBoost\n",
    "\n",
    "import pandas as pd\n",
    "import numpy as np\n",
    "import seaborn as sns\n",
    "import matplotlib.pyplot as plt\n",
    "from sklearn.feature_extraction.text import TfidfVectorizer\n",
    "from sklearn.model_selection import train_test_split\n",
    "from sklearn.metrics import confusion_matrix, precision_score, recall_score, f1_score, accuracy_score\n",
    "from xgboost import XGBClassifier\n",
    "from sklearn.preprocessing import LabelEncoder\n",
    "\n",
    "# Load the dataset\n",
    "data = pd.read_csv('D:\\\\Dissertation\\\\fb_sentiment_2.csv')\n",
    "\n",
    "# Remove rows with missing values\n",
    "data = data.dropna()\n",
    "\n",
    "# Split the data into features (X) and target variable (y)\n",
    "X = data['Text']\n",
    "y = data['Sentiment']\n",
    "\n",
    "# Convert categorical labels to numerical labels\n",
    "label_encoder = LabelEncoder()\n",
    "y = label_encoder.fit_transform(y)\n",
    "\n",
    "# Split the data into training and test sets\n",
    "X_train, X_test, y_train, y_test = train_test_split(X, y, test_size=0.2, random_state=42)\n",
    "\n",
    "# Vectorize the text data\n",
    "vectorizer = TfidfVectorizer()\n",
    "X_train_vec = vectorizer.fit_transform(X_train)\n",
    "X_test_vec = vectorizer.transform(X_test)\n",
    "\n",
    "# Train the XGBoost model\n",
    "model = XGBClassifier()\n",
    "model.fit(X_train_vec, y_train)\n",
    "\n",
    "# Make predictions on the test set\n",
    "y_pred = model.predict(X_test_vec)\n",
    "\n",
    "# Compute evaluation metrics\n",
    "confusion = confusion_matrix(y_test, y_pred)\n",
    "precision = precision_score(y_test, y_pred, average='weighted')\n",
    "recall = recall_score(y_test, y_pred, average='weighted')\n",
    "f1 = f1_score(y_test, y_pred, average='weighted')\n",
    "accuracy = accuracy_score(y_test, y_pred)\n",
    "\n",
    "# Print evaluation metrics\n",
    "print(\"Confusion Matrix:\")\n",
    "print(confusion)\n",
    "print()\n",
    "print(\"Precision:\", precision)\n",
    "print(\"Recall:\", recall)\n",
    "print(\"F1 Score:\", f1)\n",
    "print(\"Accuracy:\", accuracy)\n",
    "\n",
    "# Create a heatmap of the confusion matrix\n",
    "labels = sorted(data['Sentiment'].unique())\n",
    "heatmap = sns.heatmap(confusion, annot=True, fmt='d', cmap='YlOrBr', xticklabels=labels, yticklabels=labels)\n",
    "plt.xlabel('Predicted')\n",
    "plt.ylabel('Actual')\n",
    "plt.title('Confusion Matrix')\n",
    "plt.show()\n"
   ]
  },
  {
   "cell_type": "code",
   "execution_count": 77,
   "id": "16eb7370",
   "metadata": {},
   "outputs": [
    {
     "name": "stdout",
     "output_type": "stream",
     "text": [
      "Epoch 1/10\n",
      "26/26 [==============================] - 10s 269ms/step - loss: 0.9189 - accuracy: 0.6244\n",
      "Epoch 2/10\n",
      "26/26 [==============================] - 6s 218ms/step - loss: 0.7817 - accuracy: 0.6404\n",
      "Epoch 3/10\n",
      "26/26 [==============================] - 6s 227ms/step - loss: 0.5837 - accuracy: 0.7451\n",
      "Epoch 4/10\n",
      "26/26 [==============================] - 5s 188ms/step - loss: 0.3852 - accuracy: 0.8436\n",
      "Epoch 5/10\n",
      "26/26 [==============================] - 5s 186ms/step - loss: 0.3022 - accuracy: 0.8941\n",
      "Epoch 6/10\n",
      "26/26 [==============================] - 6s 219ms/step - loss: 0.1917 - accuracy: 0.9409\n",
      "Epoch 7/10\n",
      "26/26 [==============================] - 6s 217ms/step - loss: 0.1100 - accuracy: 0.9667\n",
      "Epoch 8/10\n",
      "26/26 [==============================] - 6s 213ms/step - loss: 0.0683 - accuracy: 0.9791\n",
      "Epoch 9/10\n",
      "26/26 [==============================] - 5s 190ms/step - loss: 0.0348 - accuracy: 0.9926\n",
      "Epoch 10/10\n",
      "26/26 [==============================] - 5s 186ms/step - loss: 0.0394 - accuracy: 0.9877\n"
     ]
    },
    {
     "ename": "AttributeError",
     "evalue": "'Sequential' object has no attribute 'predict_classes'",
     "output_type": "error",
     "traceback": [
      "\u001b[1;31m---------------------------------------------------------------------------\u001b[0m",
      "\u001b[1;31mAttributeError\u001b[0m                            Traceback (most recent call last)",
      "\u001b[1;32m<ipython-input-77-2eb91f2ee713>\u001b[0m in \u001b[0;36m<module>\u001b[1;34m\u001b[0m\n\u001b[0;32m     54\u001b[0m \u001b[1;33m\u001b[0m\u001b[0m\n\u001b[0;32m     55\u001b[0m \u001b[1;31m# Make predictions on the test set\u001b[0m\u001b[1;33m\u001b[0m\u001b[1;33m\u001b[0m\u001b[1;33m\u001b[0m\u001b[0m\n\u001b[1;32m---> 56\u001b[1;33m \u001b[0my_pred\u001b[0m \u001b[1;33m=\u001b[0m \u001b[0mmodel\u001b[0m\u001b[1;33m.\u001b[0m\u001b[0mpredict_classes\u001b[0m\u001b[1;33m(\u001b[0m\u001b[0mX_test_padded\u001b[0m\u001b[1;33m)\u001b[0m\u001b[1;33m\u001b[0m\u001b[1;33m\u001b[0m\u001b[0m\n\u001b[0m\u001b[0;32m     57\u001b[0m \u001b[1;33m\u001b[0m\u001b[0m\n\u001b[0;32m     58\u001b[0m \u001b[1;31m# Convert numeric labels back to original string labels\u001b[0m\u001b[1;33m\u001b[0m\u001b[1;33m\u001b[0m\u001b[1;33m\u001b[0m\u001b[0m\n",
      "\u001b[1;31mAttributeError\u001b[0m: 'Sequential' object has no attribute 'predict_classes'"
     ]
    }
   ],
   "source": [
    "import pandas as pd\n",
    "import numpy as np\n",
    "from sklearn.model_selection import train_test_split\n",
    "from sklearn.preprocessing import LabelEncoder\n",
    "from sklearn.metrics import confusion_matrix, precision_score, recall_score, f1_score, accuracy_score\n",
    "import seaborn as sns\n",
    "import matplotlib.pyplot as plt\n",
    "from tensorflow.keras.preprocessing.text import Tokenizer\n",
    "from tensorflow.keras.preprocessing.sequence import pad_sequences\n",
    "from tensorflow.keras.models import Sequential\n",
    "from tensorflow.keras.layers import Embedding, LSTM, Dense\n",
    "\n",
    "# Load the dataset\n",
    "data = pd.read_csv('D:\\\\Dissertation\\\\fb_sentiment_2.csv')\n",
    "\n",
    "# Remove rows with missing values\n",
    "data = data.dropna()\n",
    "\n",
    "# Split the data into features (X) and target variable (y)\n",
    "X = data['Text']\n",
    "y = data['Sentiment']\n",
    "\n",
    "# Convert string labels to numeric labels\n",
    "label_encoder = LabelEncoder()\n",
    "y = label_encoder.fit_transform(y)\n",
    "\n",
    "# Split the data into training and test sets\n",
    "X_train, X_test, y_train, y_test = train_test_split(X, y, test_size=0.2, random_state=42)\n",
    "\n",
    "# Tokenize and pad the text data\n",
    "tokenizer = Tokenizer()\n",
    "tokenizer.fit_on_texts(X_train)\n",
    "X_train_seq = tokenizer.texts_to_sequences(X_train)\n",
    "X_test_seq = tokenizer.texts_to_sequences(X_test)\n",
    "max_seq_length = max(len(sequence) for sequence in X_train_seq)\n",
    "X_train_padded = pad_sequences(X_train_seq, maxlen=max_seq_length)\n",
    "X_test_padded = pad_sequences(X_test_seq, maxlen=max_seq_length)\n",
    "\n",
    "# Build the LSTM model\n",
    "vocab_size = len(tokenizer.word_index) + 1\n",
    "embedding_dim = 100\n",
    "hidden_units = 128\n",
    "num_classes = len(label_encoder.classes_)\n",
    "\n",
    "model = Sequential()\n",
    "model.add(Embedding(vocab_size, embedding_dim, input_length=max_seq_length))\n",
    "model.add(LSTM(hidden_units, dropout=0.2))\n",
    "model.add(Dense(num_classes, activation='softmax'))\n",
    "\n",
    "model.compile(loss='sparse_categorical_crossentropy', optimizer='adam', metrics=['accuracy'])\n",
    "\n",
    "# Train the LSTM model\n",
    "model.fit(X_train_padded, y_train, epochs=10, batch_size=32)\n",
    "\n",
    "# Make predictions on the test set\n",
    "y_pred = model.predict_classes(X_test_padded)\n",
    "\n",
    "# Convert numeric labels back to original string labels\n",
    "y_test = label_encoder.inverse_transform(y_test)\n",
    "y_pred = label_encoder.inverse_transform(y_pred)\n",
    "\n",
    "# Compute evaluation metrics\n",
    "confusion = confusion_matrix(y_test, y_pred)\n",
    "precision = precision_score(y_test, y_pred, average='weighted')\n",
    "recall = recall_score(y_test, y_pred, average='weighted')\n",
    "f1 = f1_score(y_test, y_pred, average='weighted')\n",
    "accuracy = accuracy_score(y_test, y_pred)\n",
    "\n",
    "# Print evaluation metrics\n",
    "print(\"Confusion Matrix:\")\n",
    "print(confusion)\n",
    "print()\n",
    "print(\"Precision:\", precision)\n",
    "print(\"Recall:\", recall)\n",
    "print(\"F1 Score:\", f1)\n",
    "print(\"Accuracy:\", accuracy)\n",
    "\n",
    "# Create a heatmap of the confusion matrix\n",
    "labels = sorted(data['Sentiment'].unique())\n",
    "heatmap = sns.heatmap(confusion, annot=True, fmt='d', cmap='Reds', xticklabels=labels, yticklabels=labels)\n",
    "plt.xlabel('Predicted')\n",
    "plt.ylabel('Actual')\n",
    "plt.title('Confusion Matrix')\n",
    "plt.show()\n"
   ]
  },
  {
   "cell_type": "code",
   "execution_count": 148,
   "id": "e53a8358",
   "metadata": {},
   "outputs": [
    {
     "name": "stdout",
     "output_type": "stream",
     "text": [
      "Epoch 1/30\n",
      "26/26 [==============================] - 9s 228ms/step - loss: 0.9206 - accuracy: 0.6256\n",
      "Epoch 2/30\n",
      "26/26 [==============================] - 6s 229ms/step - loss: 0.7883 - accuracy: 0.6404\n",
      "Epoch 3/30\n",
      "26/26 [==============================] - 6s 236ms/step - loss: 0.5934 - accuracy: 0.7377\n",
      "Epoch 4/30\n",
      "26/26 [==============================] - 6s 235ms/step - loss: 0.3712 - accuracy: 0.8670\n",
      "Epoch 5/30\n",
      "26/26 [==============================] - 6s 232ms/step - loss: 0.2353 - accuracy: 0.9384\n",
      "Epoch 6/30\n",
      "26/26 [==============================] - 6s 234ms/step - loss: 0.1535 - accuracy: 0.9569\n",
      "Epoch 7/30\n",
      "26/26 [==============================] - 6s 236ms/step - loss: 0.0997 - accuracy: 0.9741\n",
      "Epoch 8/30\n",
      "26/26 [==============================] - 6s 225ms/step - loss: 0.0563 - accuracy: 0.9815\n",
      "Epoch 9/30\n",
      "26/26 [==============================] - 6s 224ms/step - loss: 0.0324 - accuracy: 0.9926\n",
      "Epoch 10/30\n",
      "26/26 [==============================] - 6s 226ms/step - loss: 0.0403 - accuracy: 0.9926\n",
      "Epoch 11/30\n",
      "26/26 [==============================] - 6s 226ms/step - loss: 0.0280 - accuracy: 0.9938\n",
      "Epoch 12/30\n",
      "26/26 [==============================] - 6s 226ms/step - loss: 0.0165 - accuracy: 0.9938\n",
      "Epoch 13/30\n",
      "26/26 [==============================] - 6s 226ms/step - loss: 0.0158 - accuracy: 0.9963\n",
      "Epoch 14/30\n",
      "26/26 [==============================] - 6s 226ms/step - loss: 0.0104 - accuracy: 0.9975\n",
      "Epoch 15/30\n",
      "26/26 [==============================] - 6s 225ms/step - loss: 0.0095 - accuracy: 0.9975\n",
      "Epoch 16/30\n",
      "26/26 [==============================] - 6s 226ms/step - loss: 0.0092 - accuracy: 0.9963\n",
      "Epoch 17/30\n",
      "26/26 [==============================] - 6s 230ms/step - loss: 0.0073 - accuracy: 0.9988\n",
      "Epoch 18/30\n",
      "26/26 [==============================] - 6s 230ms/step - loss: 0.0092 - accuracy: 0.9951\n",
      "Epoch 19/30\n",
      "26/26 [==============================] - 6s 224ms/step - loss: 0.1032 - accuracy: 0.9729\n",
      "Epoch 20/30\n",
      "26/26 [==============================] - 6s 225ms/step - loss: 0.0508 - accuracy: 0.9865\n",
      "Epoch 21/30\n",
      "26/26 [==============================] - 6s 225ms/step - loss: 0.0163 - accuracy: 0.9963\n",
      "Epoch 22/30\n",
      "26/26 [==============================] - 6s 225ms/step - loss: 0.0118 - accuracy: 0.9975\n",
      "Epoch 23/30\n",
      "26/26 [==============================] - 6s 226ms/step - loss: 0.0097 - accuracy: 0.9975\n",
      "Epoch 24/30\n",
      "26/26 [==============================] - 6s 228ms/step - loss: 0.0071 - accuracy: 0.9975\n",
      "Epoch 25/30\n",
      "26/26 [==============================] - 6s 229ms/step - loss: 0.0068 - accuracy: 0.9975\n",
      "Epoch 26/30\n",
      "26/26 [==============================] - 6s 226ms/step - loss: 0.0073 - accuracy: 0.9975\n",
      "Epoch 27/30\n",
      "26/26 [==============================] - 6s 230ms/step - loss: 0.0059 - accuracy: 0.9975\n",
      "Epoch 28/30\n",
      "26/26 [==============================] - 6s 228ms/step - loss: 0.0054 - accuracy: 0.9975\n",
      "Epoch 29/30\n",
      "26/26 [==============================] - 6s 226ms/step - loss: 0.0051 - accuracy: 0.9975\n",
      "Epoch 30/30\n",
      "26/26 [==============================] - 6s 224ms/step - loss: 0.0059 - accuracy: 0.9963\n",
      "7/7 [==============================] - 1s 87ms/step\n",
      "Confusion Matrix:\n",
      "[[  3   6  13]\n",
      " [  4  31  26]\n",
      " [  0  20 101]]\n",
      "\n",
      "Precision: 0.636749348862352\n",
      "Recall: 0.6617647058823529\n",
      "F1 Score: 0.6384807900691285\n",
      "Accuracy: 0.6617647058823529\n"
     ]
    },
    {
     "data": {
      "image/png": "[encoded data removed]",
      "text/plain": [
       "<Figure size 432x288 with 2 Axes>"
      ]
     },
     "metadata": {
      "needs_background": "light"
     },
     "output_type": "display_data"
    }
   ],
   "source": [
    "# LSTM Final\n",
    "\n",
    "import pandas as pd\n",
    "import numpy as np\n",
    "from sklearn.model_selection import train_test_split\n",
    "from sklearn.preprocessing import LabelEncoder\n",
    "from sklearn.metrics import confusion_matrix, precision_score, recall_score, f1_score, accuracy_score\n",
    "import seaborn as sns\n",
    "import matplotlib.pyplot as plt\n",
    "from tensorflow.keras.preprocessing.text import Tokenizer\n",
    "from tensorflow.keras.preprocessing.sequence import pad_sequences\n",
    "from tensorflow.keras.models import Sequential\n",
    "from tensorflow.keras.layers import Embedding, LSTM, Dense\n",
    "\n",
    "# Load the dataset\n",
    "data = pd.read_csv('D:\\\\Dissertation\\\\fb_sentiment_2.csv')\n",
    "\n",
    "# Remove rows with missing values\n",
    "data = data.dropna()\n",
    "\n",
    "# Split the data into features (X) and target variable (y)\n",
    "X = data['Text']\n",
    "y = data['Sentiment']\n",
    "\n",
    "# Convert string labels to numeric labels\n",
    "label_encoder = LabelEncoder()\n",
    "y = label_encoder.fit_transform(y)\n",
    "\n",
    "# Split the data into training and test sets\n",
    "X_train, X_test, y_train, y_test = train_test_split(X, y, test_size=0.2, random_state=42)\n",
    "\n",
    "# Tokenize and pad the text data\n",
    "tokenizer = Tokenizer()\n",
    "tokenizer.fit_on_texts(X_train)\n",
    "X_train_seq = tokenizer.texts_to_sequences(X_train)\n",
    "X_test_seq = tokenizer.texts_to_sequences(X_test)\n",
    "max_seq_length = max(len(sequence) for sequence in X_train_seq)\n",
    "X_train_padded = pad_sequences(X_train_seq, maxlen=max_seq_length)\n",
    "X_test_padded = pad_sequences(X_test_seq, maxlen=max_seq_length)\n",
    "\n",
    "# Build the LSTM model\n",
    "vocab_size = len(tokenizer.word_index) + 1\n",
    "embedding_dim = 100\n",
    "hidden_units = 128\n",
    "num_classes = len(label_encoder.classes_)\n",
    "\n",
    "model = Sequential()\n",
    "model.add(Embedding(vocab_size, embedding_dim, input_length=max_seq_length))\n",
    "model.add(LSTM(hidden_units, dropout=0.2))\n",
    "model.add(Dense(num_classes, activation='softmax'))\n",
    "\n",
    "model.compile(loss='sparse_categorical_crossentropy', optimizer='adam', metrics=['accuracy'])\n",
    "\n",
    "# Train the LSTM model\n",
    "model.fit(X_train_padded, y_train, epochs=30, batch_size=32)\n",
    "\n",
    "# Make predictions on the test set\n",
    "y_pred_prob = model.predict(X_test_padded)\n",
    "y_pred = np.argmax(y_pred_prob, axis=1)\n",
    "\n",
    "# Convert numeric labels back to original string labels\n",
    "y_test = label_encoder.inverse_transform(y_test)\n",
    "y_pred = label_encoder.inverse_transform(y_pred)\n",
    "\n",
    "# Compute evaluation metrics\n",
    "confusion = confusion_matrix(y_test, y_pred)\n",
    "precision = precision_score(y_test, y_pred, average='weighted')\n",
    "recall = recall_score(y_test, y_pred, average='weighted')\n",
    "f1 = f1_score(y_test, y_pred, average='weighted')\n",
    "accuracy = accuracy_score(y_test, y_pred)\n",
    "\n",
    "# Print evaluation metrics\n",
    "print(\"Confusion Matrix:\")\n",
    "print(confusion)\n",
    "print()\n",
    "print(\"Precision:\", precision)\n",
    "print(\"Recall:\", recall)\n",
    "print(\"F1 Score:\", f1)\n",
    "print(\"Accuracy:\", accuracy)\n",
    "\n",
    "# Create a heatmap of the confusion matrix\n",
    "labels = sorted(data['Sentiment'].unique())\n",
    "heatmap = sns.heatmap(confusion, annot=True, fmt='d', cmap='Blues', xticklabels=labels, yticklabels=labels)\n",
    "plt.xlabel('Predicted')\n",
    "plt.ylabel('Actual')\n",
    "plt.title('Confusion Matrix')\n",
    "plt.show()\n",
    "\n",
    "\n"
   ]
  },
  {
   "cell_type": "code",
   "execution_count": null,
   "id": "dcfe82b1",
   "metadata": {},
   "outputs": [],
   "source": []
  }
 ],
 "metadata": {
  "kernelspec": {
   "display_name": "Python 3",
   "language": "python",
   "name": "python3"
  },
  "language_info": {
   "codemirror_mode": {
    "name": "ipython",
    "version": 3
   },
   "file_extension": ".py",
   "mimetype": "text/x-python",
   "name": "python",
   "nbconvert_exporter": "python",
   "pygments_lexer": "ipython3",
   "version": "3.8.8"
  }
 },
 "nbformat": 4,
 "nbformat_minor": 5
}
